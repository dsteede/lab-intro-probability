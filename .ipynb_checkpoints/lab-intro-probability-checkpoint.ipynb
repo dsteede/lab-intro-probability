{
 "cells": [
  {
   "cell_type": "markdown",
   "metadata": {},
   "source": [
    "# Lab | Intro to Probability"
   ]
  },
  {
   "cell_type": "markdown",
   "metadata": {},
   "source": [
    "**Objective**\n",
    "\n",
    "Welcome to this Intro to Probability lab, where we explore decision-making scenarios through the lens of probability and strategic analysis. In the business world, making informed decisions is crucial, especially when faced with uncertainties. This lab focuses on scenarios where probabilistic outcomes play a significant role in shaping strategies and outcomes. Students will engage in exercises that require assessing and choosing optimal paths based on data-driven insights. The goal is to enhance your skills by applying probability concepts to solve real-world problems."
   ]
  },
  {
   "cell_type": "markdown",
   "metadata": {},
   "source": [
    "**Challenge 1**"
   ]
  },
  {
   "cell_type": "markdown",
   "metadata": {},
   "source": [
    "#### Ironhack Airlines \n",
    "\n",
    "Often Airlines sell more tickets than they have seats available, this is called overbooking. Consider the following:\n",
    "- A plane has 450 seats. \n",
    "- Based on historical data we conclude that each individual passenger has a 3% chance of missing it's flight. \n",
    "\n",
    "If the Ironhack Airlines routinely sells 460 tickets, what is the chance that they have a seats for all passenger?"
   ]
  },
  {
   "cell_type": "code",
   "execution_count": 1,
   "metadata": {},
   "outputs": [
    {
     "name": "stdout",
     "output_type": "stream",
     "text": [
      "Probability of having seats for all passengers: 8.222384136839494e-07\n"
     ]
    }
   ],
   "source": [
    "# Calculate the probability\n",
    "probability_all_seats = 0.97 ** 460\n",
    "print(\"Probability of having seats for all passengers:\", probability_all_seats)"
   ]
  },
  {
   "cell_type": "markdown",
   "metadata": {},
   "source": [
    "**Challenge 2**"
   ]
  },
  {
   "cell_type": "markdown",
   "metadata": {},
   "source": [
    "#### Ironhack Call Center "
   ]
  },
  {
   "cell_type": "markdown",
   "metadata": {},
   "source": [
    "Suppose a customer service representative at a call center is handling customer complaints. Consider the following:\n",
    "- The probability of successfully resolving a customer complaint on the first attempt is 0.3. \n",
    "\n",
    "\n",
    "What is the probability that the representative needs to make at least three attempts before successfully resolving a customer complaint?"
   ]
  },
  {
   "cell_type": "code",
   "execution_count": 2,
   "metadata": {},
   "outputs": [
    {
     "name": "stdout",
     "output_type": "stream",
     "text": [
      "Probability of needing at least three attempts: 0.357\n"
     ]
    }
   ],
   "source": [
    "def probability_of_attempts(p, max_attempts):\n",
    "    q = 1 - p  # Probability of failure on the first attempt\n",
    "    probability = 0\n",
    "    \n",
    "    for i in range(2, max_attempts + 1):\n",
    "        probability += (q ** (i - 1)) * p\n",
    "        \n",
    "    return probability\n",
    "\n",
    "p_success_first_attempt = 0.3\n",
    "max_attempts = 3\n",
    "\n",
    "probability = probability_of_attempts(p_success_first_attempt, max_attempts)\n",
    "print(\"Probability of needing at least three attempts:\", probability)"
   ]
  },
  {
   "cell_type": "markdown",
   "metadata": {},
   "source": [
    "**Challenge 3**"
   ]
  },
  {
   "cell_type": "markdown",
   "metadata": {},
   "source": [
    "#### Ironhack Website"
   ]
  },
  {
   "cell_type": "markdown",
   "metadata": {},
   "source": [
    "Consider a scenario related to Ironhack website traffic. Where:\n",
    "- our website takes on average 500 visits per hour.\n",
    "- the website's server is designed to handle up to 550 vists per hour.\n",
    "\n",
    "\n",
    "What is the probability of the website server being overwhelmed?"
   ]
  },
  {
   "cell_type": "code",
   "execution_count": 9,
   "metadata": {},
   "outputs": [
    {
     "name": "stdout",
     "output_type": "stream",
     "text": [
      "Probability of the website server being overwhelmed: 0.0126736593387341\n"
     ]
    }
   ],
   "source": [
    "import scipy.stats as stats\n",
    "\n",
    "average_visits_per_hour = 500\n",
    "server_capacity = 550\n",
    "\n",
    "# Calculate the mean and standard deviation of the Poisson distribution\n",
    "mean = average_visits_per_hour\n",
    "std_dev = mean ** 0.5  # The standard deviation of a Poisson distribution is the square root of the mean\n",
    "\n",
    "# Calculate the z-score for the server capacity\n",
    "z_score = (server_capacity - mean) / std_dev\n",
    "\n",
    "# Use the cumulative distribution function of the standard normal distribution to find the probability\n",
    "probability_overwhelmed = 1 - stats.norm.cdf(z_score)\n",
    "\n",
    "print(\"Probability of the website server being overwhelmed:\", probability_overwhelmed)\n"
   ]
  },
  {
   "cell_type": "markdown",
   "metadata": {},
   "source": [
    "What is the probability of being overwhelmed at some point during a day? (consider 24hours)"
   ]
  },
  {
   "cell_type": "code",
   "execution_count": 10,
   "metadata": {},
   "outputs": [
    {
     "name": "stdout",
     "output_type": "stream",
     "text": [
      "Probability of the website server being overwhelmed at some point during a day: 1.0\n"
     ]
    }
   ],
   "source": [
    "import scipy.stats as stats\n",
    "\n",
    "average_visits_per_hour = 500\n",
    "server_capacity = 550\n",
    "hours_in_a_day = 24\n",
    "\n",
    "# Calculate the total average visits over 24 hours\n",
    "total_average_visits = average_visits_per_hour * hours_in_a_day\n",
    "\n",
    "# Calculate the mean and standard deviation of the Poisson distribution for 24 hours\n",
    "mean = total_average_visits\n",
    "std_dev = (total_average_visits) ** 0.5\n",
    "\n",
    "# Calculate the z-score for the server capacity\n",
    "z_score = (server_capacity - mean) / std_dev\n",
    "\n",
    "# Use the cumulative distribution function of the standard normal distribution to find the probability\n",
    "probability_overwhelmed = 1 - stats.norm.cdf(z_score)\n",
    "\n",
    "print(\"Probability of the website server being overwhelmed at some point during a day:\", probability_overwhelmed)\n"
   ]
  },
  {
   "cell_type": "markdown",
   "metadata": {},
   "source": [
    "**Challenge 4**"
   ]
  },
  {
   "cell_type": "markdown",
   "metadata": {},
   "source": [
    "#### Ironhack Helpdesk"
   ]
  },
  {
   "cell_type": "markdown",
   "metadata": {},
   "source": [
    "Consider a scenario related to the time between arrivals of customers at a service desk.\n",
    "\n",
    "On average, a customers arrives every 10minutes.\n",
    "\n",
    "What is the probability that the next customer will arrive within the next 5 minutes?"
   ]
  },
  {
   "cell_type": "code",
   "execution_count": 4,
   "metadata": {},
   "outputs": [
    {
     "name": "stdout",
     "output_type": "stream",
     "text": [
      "Probability that the next customer will arrive within the next 5 minutes: 0.3934693402873666\n"
     ]
    }
   ],
   "source": [
    "import math\n",
    "\n",
    "def exponential_probability(lambd, x):\n",
    "    return 1 - math.exp(-lambd * x)\n",
    "\n",
    "average_arrival_time = 10  # minutes\n",
    "lambd = 1 / average_arrival_time\n",
    "\n",
    "arrival_within_5_minutes = exponential_probability(lambd, 5)\n",
    "print(\"Probability that the next customer will arrive within the next 5 minutes:\", arrival_within_5_minutes)\n"
   ]
  },
  {
   "cell_type": "markdown",
   "metadata": {},
   "source": [
    "If there is no customer for 15minutes, employees can that a 5minutes break.\n",
    "\n",
    "What is the probability an employee taking a break?"
   ]
  },
  {
   "cell_type": "code",
   "execution_count": 5,
   "metadata": {},
   "outputs": [
    {
     "name": "stdout",
     "output_type": "stream",
     "text": [
      "Probability an employee can take a break after 15 minutes without any customer arrival: 0.7768698398515702\n"
     ]
    }
   ],
   "source": [
    "import math\n",
    "\n",
    "def exponential_probability(lambd, x):\n",
    "    return math.exp(-lambd * x)\n",
    "\n",
    "average_arrival_time = 10  # minutes\n",
    "lambd = 1 / average_arrival_time\n",
    "\n",
    "no_arrival_within_15_minutes = exponential_probability(lambd, 15)\n",
    "probability_break = 1 - no_arrival_within_15_minutes\n",
    "\n",
    "print(\"Probability an employee can take a break after 15 minutes without any customer arrival:\", probability_break)\n"
   ]
  },
  {
   "cell_type": "markdown",
   "metadata": {},
   "source": [
    "**Challenge 5**"
   ]
  },
  {
   "cell_type": "markdown",
   "metadata": {},
   "source": [
    "The weights of a certain species of birds follow a normal distribution with a mean weight of 150 grams and a standard deviation of 10 grams. \n",
    "\n",
    "- If we randomly select a bird, what is the probability that its weight is between 140 and 160 grams?"
   ]
  },
  {
   "cell_type": "code",
   "execution_count": 6,
   "metadata": {},
   "outputs": [
    {
     "name": "stdout",
     "output_type": "stream",
     "text": [
      "Probability that the weight of the bird is between 140 and 160 grams: 0.6826894921370859\n"
     ]
    }
   ],
   "source": [
    "import scipy.stats as stats\n",
    "\n",
    "mean_weight = 150  # grams\n",
    "std_dev = 10       # grams\n",
    "\n",
    "lower_bound = 140\n",
    "upper_bound = 160\n",
    "\n",
    "# Calculate the probability that the weight is less than or equal to the upper bound\n",
    "upper_prob = stats.norm.cdf(upper_bound, mean_weight, std_dev)\n",
    "\n",
    "# Calculate the probability that the weight is less than or equal to the lower bound\n",
    "lower_prob = stats.norm.cdf(lower_bound, mean_weight, std_dev)\n",
    "\n",
    "# The probability that the weight is between 140 and 160 grams\n",
    "probability = upper_prob - lower_prob\n",
    "\n",
    "print(\"Probability that the weight of the bird is between 140 and 160 grams:\", probability)"
   ]
  },
  {
   "cell_type": "markdown",
   "metadata": {},
   "source": [
    "**Challenge 6**"
   ]
  },
  {
   "cell_type": "markdown",
   "metadata": {},
   "source": [
    "If the lifetime (in hours) of a certain electronic component follows an exponential distribution with a mean lifetime of 50 hours, what is the probability that the component fails within the first 30 hours?"
   ]
  },
  {
   "cell_type": "code",
   "execution_count": 7,
   "metadata": {},
   "outputs": [
    {
     "name": "stdout",
     "output_type": "stream",
     "text": [
      "Probability that the component fails within the first 30 hours: 0.4511883639059736\n"
     ]
    }
   ],
   "source": [
    "import math\n",
    "\n",
    "mean_lifetime = 50  # hours\n",
    "lambd = 1 / mean_lifetime\n",
    "\n",
    "time_period = 30  # hours\n",
    "\n",
    "# Calculate the probability that the component fails within the first 30 hours\n",
    "probability = 1 - math.exp(-lambd * time_period)\n",
    "\n",
    "print(\"Probability that the component fails within the first 30 hours:\", probability)\n"
   ]
  }
 ],
 "metadata": {
  "kernelspec": {
   "display_name": "Python 3 (ipykernel)",
   "language": "python",
   "name": "python3"
  },
  "language_info": {
   "codemirror_mode": {
    "name": "ipython",
    "version": 3
   },
   "file_extension": ".py",
   "mimetype": "text/x-python",
   "name": "python",
   "nbconvert_exporter": "python",
   "pygments_lexer": "ipython3",
   "version": "3.11.7"
  }
 },
 "nbformat": 4,
 "nbformat_minor": 2
}
